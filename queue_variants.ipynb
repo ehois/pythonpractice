{
 "cells": [
  {
   "cell_type": "markdown",
   "metadata": {},
   "source": [
    "TODO:\n",
    "- runtime analysis\n",
    "- variants\n",
    "- property/setter/getter test\n",
    "- check TODO below\n",
    "- iterator?"
   ]
  },
  {
   "cell_type": "code",
   "execution_count": 13,
   "metadata": {},
   "outputs": [
    {
     "name": "stdout",
     "output_type": "stream",
     "text": [
      "[5, 3, 45]\n",
      "[3, 45]\n",
      "[45]\n",
      "[]\n",
      "Queue is empty\n",
      "[]\n"
     ]
    }
   ],
   "source": [
    "class Node:\n",
    "    def __init__(self, item):\n",
    "        self.item = item\n",
    "        self.next = None\n",
    "    def __str__(self):\n",
    "        return str(self.item)\n",
    "\n",
    "class Queue:\n",
    "    def __init__(self):\n",
    "        self.head = None\n",
    "        self.tail = None\n",
    "        self.size = 0\n",
    "    \n",
    "    def enqueue(self, item):\n",
    "        # create new node with given item\n",
    "        node = Node(item)\n",
    "        \n",
    "        # check if queue is empty\n",
    "        if self.size == 0:\n",
    "            self.head = node\n",
    "            self.tail = node\n",
    "        \n",
    "        # set next of current tail to new node \n",
    "        else:\n",
    "            self.tail.next = node\n",
    "        \n",
    "        # set tail of queue to new node\n",
    "        self.tail = node\n",
    "        # increase size of queue by 1 (all cases)\n",
    "        self.size += 1\n",
    "    \n",
    "    def dequeue(self):\n",
    "        \n",
    "        # check if queue is empty\n",
    "        if self.size == 0:\n",
    "            print(\"Queue is empty\")\n",
    "            return\n",
    "        \n",
    "        first = self.head\n",
    "        self.head = self.head.next\n",
    "        self.size -= 1\n",
    "        if self.size == 0:\n",
    "            self.tail = None\n",
    "        return first\n",
    "    \n",
    "    def __str__(self):\n",
    "                \n",
    "        if self.size == 0:\n",
    "            return str(list())\n",
    "            \n",
    "        l = list()\n",
    "        #TODO: Don't like, that we need to know how Node looks like (we name item explicitly, avoidable?)\n",
    "        l.append(self.head.item)\n",
    "        \n",
    "        n = self.head.next\n",
    "        while (n != None):\n",
    "            l.append(n.item)\n",
    "            n = n.next\n",
    "        return str(l)\n",
    "\n",
    "q = Queue()\n",
    "q.enqueue(5)\n",
    "q.enqueue(3)\n",
    "q.enqueue(45)\n",
    "print(q)\n",
    "\n",
    "q.dequeue()\n",
    "print(q)\n",
    "q.dequeue()\n",
    "print(q)\n",
    "q.dequeue()\n",
    "print(q)\n",
    "q.dequeue()\n",
    "print(q)\n",
    "\n"
   ]
  },
  {
   "cell_type": "code",
   "execution_count": null,
   "metadata": {},
   "outputs": [],
   "source": [
    "class Node:\n",
    "    def __init__(self, item):\n",
    "        self.item = item\n",
    "        self.next = None\n",
    "    def __str__(self):\n",
    "        return str(self.item)\n",
    "\n",
    "class Deque:\n",
    "    # TODO\n",
    "    # see page 186 for methods to implement\n",
    "\n",
    "class RandomQueue:\n",
    "    #TODO, page 187\n",
    "class GeneralizedQueue:\n",
    "    #TODO, page 188"
   ]
  }
 ],
 "metadata": {
  "kernelspec": {
   "display_name": "Python 3",
   "language": "python",
   "name": "python3"
  },
  "language_info": {
   "codemirror_mode": {
    "name": "ipython",
    "version": 3
   },
   "file_extension": ".py",
   "mimetype": "text/x-python",
   "name": "python",
   "nbconvert_exporter": "python",
   "pygments_lexer": "ipython3",
   "version": "3.7.4"
  }
 },
 "nbformat": 4,
 "nbformat_minor": 2
}
