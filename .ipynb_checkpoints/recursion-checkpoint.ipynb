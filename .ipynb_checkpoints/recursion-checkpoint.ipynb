{
 "cells": [
  {
   "cell_type": "markdown",
   "metadata": {},
   "source": [
    "Here are some simple examples to practice recursion.\n",
    "\n",
    "---\n",
    "\n",
    "The first example (binary search) is done in the conventional way and then with recursion. Then a typical problem (fibonacci) and related problems are solved."
   ]
  },
  {
   "cell_type": "code",
   "execution_count": 1,
   "metadata": {},
   "outputs": [
    {
     "data": {
      "text/plain": [
       "11"
      ]
     },
     "execution_count": 1,
     "metadata": {},
     "output_type": "execute_result"
    }
   ],
   "source": [
    "import math\n",
    "\n",
    "def binary_search(key, A):\n",
    "    \n",
    "    lo = 0\n",
    "    hi = len(A) - 1\n",
    "    \n",
    "    while (lo <= hi):\n",
    "        mid = math.floor(lo + (hi - lo) / 2)\n",
    "        if (key < A[mid]):\n",
    "            hi = mid - 1\n",
    "        elif (key > A[mid]):\n",
    "            lo = mid + 1\n",
    "        else:\n",
    "            return mid\n",
    "    return -1\n",
    "\n",
    "arr = [2,2,4,6,7,8,9,10,12,14,15,23,33,45,60]\n",
    "binary_search(23, arr)"
   ]
  },
  {
   "cell_type": "code",
   "execution_count": 2,
   "metadata": {},
   "outputs": [
    {
     "data": {
      "text/plain": [
       "9"
      ]
     },
     "execution_count": 2,
     "metadata": {},
     "output_type": "execute_result"
    }
   ],
   "source": [
    "# TODO: \n",
    "# Behaviour is inconsistent when there are duplicates (not always first appearance, could be modified though to do so)\n",
    "\n",
    "import math\n",
    "\n",
    "def binary_search_recursive (key, A, lo = 0, hi = None):\n",
    "    # No method overloading in Python, but default values possible, can't do it next line there already,\n",
    "    # because it is evaluated now and we just know A and therefore its length when method is used\n",
    "\n",
    "    \n",
    "    if (hi == None):\n",
    "        hi = len(A)-1\n",
    "    \n",
    "    if (lo > hi):\n",
    "        return -1\n",
    "    \n",
    "    mid = math.floor(lo + (hi - lo) / 2)\n",
    "    \n",
    "    if (key < A[mid]):\n",
    "        #print(lo, mid, hi)\n",
    "        return binary_search_recursive(key, A, lo, mid-1)\n",
    "    elif (key > A[mid]):\n",
    "        #print(lo, mid, hi)\n",
    "        return binary_search_recursive(key, A, mid+1, hi)\n",
    "    else: \n",
    "        #print(lo, mid, hi)\n",
    "        return mid\n",
    "\n",
    "arr = [2,2,4,6,7,8,9,10,12,14,14,23,33,45,60]\n",
    "binary_search_recursive(14, arr)"
   ]
  },
  {
   "cell_type": "markdown",
   "metadata": {},
   "source": [
    "---\n",
    "The Fibonacci sequence $f_{1}$, $f_{2}$, $f_{3}$ is defined recursively by \n",
    "\n",
    "$f_{n} = f_{n-1} + f_{n-2} $   for $n ≥ 3$ \n",
    " \n",
    "with the starting values\n",
    "\n",
    "$f_{1} = f_{2} = 1$"
   ]
  },
  {
   "cell_type": "code",
   "execution_count": 6,
   "metadata": {},
   "outputs": [
    {
     "name": "stdout",
     "output_type": "stream",
     "text": [
      "144\n",
      "13\n"
     ]
    }
   ],
   "source": [
    "\n",
    "import math\n",
    "def fibonacci(n):\n",
    "    if (n < 0):\n",
    "        return (-1)**((-n)+1) * fibonacci(-n)\n",
    "    if (n == 0):\n",
    "        return 0\n",
    "    if (n == 1):\n",
    "        return 1\n",
    "    \n",
    "    return fibonacci(n-1) + fibonacci(n-2)\n",
    " \n",
    "print(fibonacci(12))\n",
    "\n",
    "def tribonacci(n):\n",
    "    # could do the same as in fibonacci for negative number (see below) but no definition found\n",
    "    #if (n < 0):\n",
    "        #return (-1)**((-n)+1) * tribonacci(-n)\n",
    "    \n",
    "    if (n < 0):\n",
    "        return -1\n",
    "    if (n == 0):\n",
    "        return 0 \n",
    "    if (n == 1 or n == 2):\n",
    "        return 1\n",
    "    if (n == 3):\n",
    "        return 2\n",
    "    \n",
    "    return tribonacci(n-1) + tribonacci(n-2) + tribonacci(n-3)\n",
    "\n",
    "print(tribonacci(6))\n",
    "# first few with n = 0, 1, 2,... are: 0, 1, 1, 2, 4, 7, 13, 24, 44, 81, 149\n",
    "\n",
    "\n",
    "\n"
   ]
  },
  {
   "cell_type": "markdown",
   "metadata": {},
   "source": [
    "---\n",
    "The Stern-Brocot sequence is defined as follows:\n",
    "\n",
    "$s_{0} = 0$\n",
    "\n",
    "$s_{1} = 1$\n",
    "\n",
    "$s_{2n} = s_{n}$\n",
    "\n",
    "$s_{2n+1}= s_{n}+s_{n+1}$ "
   ]
  },
  {
   "cell_type": "code",
   "execution_count": 4,
   "metadata": {},
   "outputs": [
    {
     "name": "stdout",
     "output_type": "stream",
     "text": [
      "[0, 1, 1, 2, 1, 3, 2, 3, 1, 4, 3, 5, 2, 5, 3, 4, 1, 5, 4, 7]\n"
     ]
    }
   ],
   "source": [
    "def stern_brocot(n):\n",
    "    if (n < 0):\n",
    "        return -1\n",
    "    if (n == 0):\n",
    "        return 0\n",
    "    if (n == 1 or n == 2):\n",
    "        return 1\n",
    "\n",
    "    if (n % 2 == 0):\n",
    "        return stern_brocot(n/2)\n",
    "    return stern_brocot(math.floor(n/2)) + stern_brocot(math.floor(n/2)+1)\n",
    "\n",
    "print(list(stern_brocot(x) for x in range(0,20)))"
   ]
  },
  {
   "cell_type": "code",
   "execution_count": null,
   "metadata": {},
   "outputs": [],
   "source": []
  }
 ],
 "metadata": {
  "kernelspec": {
   "display_name": "Python 3",
   "language": "python",
   "name": "python3"
  },
  "language_info": {
   "codemirror_mode": {
    "name": "ipython",
    "version": 3
   },
   "file_extension": ".py",
   "mimetype": "text/x-python",
   "name": "python",
   "nbconvert_exporter": "python",
   "pygments_lexer": "ipython3",
   "version": "3.7.4"
  }
 },
 "nbformat": 4,
 "nbformat_minor": 2
}
