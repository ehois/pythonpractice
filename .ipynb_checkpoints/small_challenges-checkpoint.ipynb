{
 "cells": [
  {
   "cell_type": "markdown",
   "metadata": {},
   "source": [
    "Python Challnges taken from https://edabit.com/challenges/python3"
   ]
  },
  {
   "cell_type": "markdown",
   "metadata": {},
   "source": [
    "Filter out Strings from an List\n",
    "\n",
    "Create a function that takes a list of non-negative numbers and strings and return a new list without the strings."
   ]
  },
  {
   "cell_type": "code",
   "execution_count": 2,
   "metadata": {},
   "outputs": [
    {
     "data": {
      "text/plain": [
       "[1, 2]"
      ]
     },
     "execution_count": 2,
     "metadata": {},
     "output_type": "execute_result"
    }
   ],
   "source": [
    "def filter_list(lst):\n",
    "    # Problem with this solution:\n",
    "    # if an element is removed the next one checked will be one further\n",
    "    # so one element is skipped eevry time one is removed\n",
    "    # for element in lst:\n",
    "        #if not (type(element) == int):\n",
    "            #lst.remove(element)\n",
    "\n",
    "    # list comprehension instead\n",
    "    lst = [x for x in lst if (type(x) == int)]\n",
    "    return lst\n",
    "\n",
    "filter_list([1,2,\"a\", \"b\"])"
   ]
  },
  {
   "cell_type": "markdown",
   "metadata": {},
   "source": [
    "Count Ones in Binary Representation of Integer\n",
    "\n",
    "Count the amount of ones in the binary representation of an integer. So for example, since 12 is '1100' in binary, the return value should be 2."
   ]
  },
  {
   "cell_type": "code",
   "execution_count": 4,
   "metadata": {},
   "outputs": [
    {
     "name": "stdout",
     "output_type": "stream",
     "text": [
      "1246\n",
      "10011011110\n",
      "7\n"
     ]
    },
    {
     "data": {
      "text/plain": [
       "7"
      ]
     },
     "execution_count": 4,
     "metadata": {},
     "output_type": "execute_result"
    }
   ],
   "source": [
    "def count_ones(num):\n",
    "    # Decimal to Binary\n",
    "    print(num)\n",
    "    bnum = \"\"\n",
    "    while num > 0:\n",
    "        bnum = str (num % 2) + bnum\n",
    "        num = int (num / 2)\n",
    "    print(bnum)\n",
    "    \n",
    "    # Count ones in binary representation (str used because iterable)\n",
    "    count = 0\n",
    "    for b in bnum:\n",
    "        if b == \"1\":\n",
    "            count += 1\n",
    "    print(count)\n",
    "    return count\n",
    "\n",
    "count_ones(1246)"
   ]
  },
  {
   "cell_type": "markdown",
   "metadata": {},
   "source": [
    "Shuffle the Name\n",
    "\n",
    "Create a function that takes a string (will be a persons first and last name) and returns a string with the first and last name swapped."
   ]
  },
  {
   "cell_type": "code",
   "execution_count": 5,
   "metadata": {},
   "outputs": [
    {
     "name": "stdout",
     "output_type": "stream",
     "text": [
      "Rosie O'Donnel\n",
      "5\n",
      "O'Donnel Rosie\n"
     ]
    },
    {
     "data": {
      "text/plain": [
       "\"O'Donnel Rosie\""
      ]
     },
     "execution_count": 5,
     "metadata": {},
     "output_type": "execute_result"
    }
   ],
   "source": [
    "def name_shuffle(txt):\n",
    "    # Detect whitespace\n",
    "    print(txt)\n",
    "    whitespace = 0\n",
    "    for t in txt:\n",
    "        if t == \" \":\n",
    "            whitespace = txt.index(t)\n",
    "            break\n",
    "    print(whitespace)\n",
    "    \n",
    "    # Slice the String to change order\n",
    "    txt = txt[whitespace + 1:] + \" \" + txt [:whitespace] \n",
    "    print(txt)\n",
    "    return txt\n",
    "\n",
    "name_shuffle(\"Rosie O'Donnel\")"
   ]
  },
  {
   "cell_type": "markdown",
   "metadata": {},
   "source": [
    "Factorial of a Positive Integer\n",
    "\n",
    "Write a function that takes a positive integer and return its factorial."
   ]
  },
  {
   "cell_type": "code",
   "execution_count": 8,
   "metadata": {},
   "outputs": [
    {
     "name": "stdout",
     "output_type": "stream",
     "text": [
      "4\n",
      "24\n",
      "0\n",
      "1\n"
     ]
    }
   ],
   "source": [
    "def factorial(Z):\n",
    "    print(Z)\n",
    "    result = 1\n",
    "    while Z > 0:\n",
    "        result = result * Z\n",
    "        Z -= 1\n",
    "    \n",
    "    return result\n",
    "\n",
    "print(factorial(4))\n",
    "print(factorial(0))"
   ]
  },
  {
   "cell_type": "markdown",
   "metadata": {},
   "source": [
    "Alphabet Soup\n",
    "\n",
    "Create a function that takes a string and returns a string with its letters in alphabetical order."
   ]
  },
  {
   "cell_type": "code",
   "execution_count": null,
   "metadata": {},
   "outputs": [],
   "source": [
    "def alphabet_soup(txt):\n",
    "    lst = []\n",
    "    for t in txt:\n",
    "        lst.append(t)\n",
    "    print(lst)\n",
    "\n",
    "    lst.sort()\n",
    "    print(lst)\n",
    "\n",
    "    # join with no whitespace (would be \" \"), letter or anything else so just \"\"\n",
    "    print(\"\".join(lst))\n",
    "    \n",
    "    # Alternative in one line\n",
    "    # print(\"\".join((sorted(txt))))\n",
    "    return \"\".join(lst)"
   ]
  },
  {
   "cell_type": "markdown",
   "metadata": {},
   "source": [
    "Check if a Number is Prime\n",
    "\n",
    "Create a function that outputs true if a number is prime, and false otherwise."
   ]
  },
  {
   "cell_type": "code",
   "execution_count": 9,
   "metadata": {},
   "outputs": [
    {
     "data": {
      "text/plain": [
       "True"
      ]
     },
     "execution_count": 9,
     "metadata": {},
     "output_type": "execute_result"
    }
   ],
   "source": [
    "def is_prime(num):\n",
    "    \n",
    "    if num == 1:\n",
    "        return False\n",
    "\n",
    "    i = num - 1\n",
    "    while i >= 2:\n",
    "        if (num % i == 0):\n",
    "            return False\n",
    "        i-= 1\n",
    "    \n",
    "    # Alternative\n",
    "    # for i in range(2,num):\n",
    "            # if num % i == 0:\n",
    "                 # return False\n",
    "    return True\n",
    "\n",
    "is_prime(31)"
   ]
  },
  {
   "cell_type": "markdown",
   "metadata": {},
   "source": [
    "Repeating Letters\n",
    "\n",
    "Create a function that takes a string and returns a string in which each character is repeated once."
   ]
  },
  {
   "cell_type": "code",
   "execution_count": 13,
   "metadata": {},
   "outputs": [
    {
     "data": {
      "text/plain": [
       "'HHeelllloo  WWoorrlldd!!'"
      ]
     },
     "execution_count": 13,
     "metadata": {},
     "output_type": "execute_result"
    }
   ],
   "source": [
    "def double_char(txt):\n",
    "    #print([x*2 for x in txt])\n",
    "    return \"\".join([x*2 for x in txt])\n",
    "\n",
    "double_char(\"Hello World!\")"
   ]
  },
  {
   "cell_type": "code",
   "execution_count": null,
   "metadata": {},
   "outputs": [],
   "source": []
  }
 ],
 "metadata": {
  "kernelspec": {
   "display_name": "Python 3",
   "language": "python",
   "name": "python3"
  },
  "language_info": {
   "codemirror_mode": {
    "name": "ipython",
    "version": 3
   },
   "file_extension": ".py",
   "mimetype": "text/x-python",
   "name": "python",
   "nbconvert_exporter": "python",
   "pygments_lexer": "ipython3",
   "version": "3.7.4"
  }
 },
 "nbformat": 4,
 "nbformat_minor": 2
}
